{
 "cells": [
  {
   "cell_type": "code",
   "execution_count": 102,
   "id": "316ed19f",
   "metadata": {},
   "outputs": [],
   "source": [
    "import pandas as pd\n",
    "import numpy as np\n",
    "import seaborn as sns\n",
    "import matplotlib.pyplot as plt"
   ]
  },
  {
   "cell_type": "code",
   "execution_count": 156,
   "id": "f791c61e",
   "metadata": {},
   "outputs": [
    {
     "name": "stderr",
     "output_type": "stream",
     "text": [
      "C:\\Users\\Default.DESKTOP-9HQJD85\\AppData\\Local\\Temp\\ipykernel_15612\\3553826195.py:1: DtypeWarning: Columns (7) have mixed types. Specify dtype option on import or set low_memory=False.\n",
      "  data = pd.read_csv(\"payroll.csv\")\n"
     ]
    },
    {
     "data": {
      "text/html": [
       "<div>\n",
       "<style scoped>\n",
       "    .dataframe tbody tr th:only-of-type {\n",
       "        vertical-align: middle;\n",
       "    }\n",
       "\n",
       "    .dataframe tbody tr th {\n",
       "        vertical-align: top;\n",
       "    }\n",
       "\n",
       "    .dataframe thead th {\n",
       "        text-align: right;\n",
       "    }\n",
       "</style>\n",
       "<table border=\"1\" class=\"dataframe\">\n",
       "  <thead>\n",
       "    <tr style=\"text-align: right;\">\n",
       "      <th></th>\n",
       "      <th>Fiscal Year</th>\n",
       "      <th>Payroll Number</th>\n",
       "      <th>Agency Name</th>\n",
       "      <th>Last Name</th>\n",
       "      <th>First Name</th>\n",
       "      <th>Mid Init</th>\n",
       "      <th>Agency Start Date</th>\n",
       "      <th>Work Location Borough</th>\n",
       "      <th>Title Description</th>\n",
       "      <th>Leave Status as of June 30</th>\n",
       "      <th>Base Salary</th>\n",
       "      <th>Pay Basis</th>\n",
       "      <th>Regular Hours</th>\n",
       "      <th>Regular Gross Paid</th>\n",
       "      <th>OT Hours</th>\n",
       "      <th>Total OT Paid</th>\n",
       "      <th>Total Other Pay</th>\n",
       "    </tr>\n",
       "  </thead>\n",
       "  <tbody>\n",
       "    <tr>\n",
       "      <th>0</th>\n",
       "      <td>2020</td>\n",
       "      <td>17.0</td>\n",
       "      <td>OFFICE OF EMERGENCY MANAGEMENT</td>\n",
       "      <td>BEREZIN</td>\n",
       "      <td>MIKHAIL</td>\n",
       "      <td>NaN</td>\n",
       "      <td>08/10/2015</td>\n",
       "      <td>BROOKLYN</td>\n",
       "      <td>EMERGENCY PREPAREDNESS MANAGER</td>\n",
       "      <td>ACTIVE</td>\n",
       "      <td>86005.0</td>\n",
       "      <td>per Annum</td>\n",
       "      <td>1820.0</td>\n",
       "      <td>84698.21</td>\n",
       "      <td>0.0</td>\n",
       "      <td>0.0</td>\n",
       "      <td>0.0</td>\n",
       "    </tr>\n",
       "    <tr>\n",
       "      <th>1</th>\n",
       "      <td>2020</td>\n",
       "      <td>17.0</td>\n",
       "      <td>OFFICE OF EMERGENCY MANAGEMENT</td>\n",
       "      <td>GEAGER</td>\n",
       "      <td>VERONICA</td>\n",
       "      <td>M</td>\n",
       "      <td>09/12/2016</td>\n",
       "      <td>BROOKLYN</td>\n",
       "      <td>EMERGENCY PREPAREDNESS MANAGER</td>\n",
       "      <td>ACTIVE</td>\n",
       "      <td>86005.0</td>\n",
       "      <td>per Annum</td>\n",
       "      <td>1820.0</td>\n",
       "      <td>84698.21</td>\n",
       "      <td>0.0</td>\n",
       "      <td>0.0</td>\n",
       "      <td>0.0</td>\n",
       "    </tr>\n",
       "  </tbody>\n",
       "</table>\n",
       "</div>"
      ],
      "text/plain": [
       "   Fiscal Year  Payroll Number                     Agency Name Last Name  \\\n",
       "0         2020            17.0  OFFICE OF EMERGENCY MANAGEMENT   BEREZIN   \n",
       "1         2020            17.0  OFFICE OF EMERGENCY MANAGEMENT    GEAGER   \n",
       "\n",
       "  First Name Mid Init Agency Start Date Work Location Borough  \\\n",
       "0    MIKHAIL      NaN        08/10/2015              BROOKLYN   \n",
       "1   VERONICA        M        09/12/2016              BROOKLYN   \n",
       "\n",
       "                Title Description Leave Status as of June 30  Base Salary  \\\n",
       "0  EMERGENCY PREPAREDNESS MANAGER                     ACTIVE      86005.0   \n",
       "1  EMERGENCY PREPAREDNESS MANAGER                     ACTIVE      86005.0   \n",
       "\n",
       "   Pay Basis  Regular Hours  Regular Gross Paid  OT Hours  Total OT Paid  \\\n",
       "0  per Annum         1820.0            84698.21       0.0            0.0   \n",
       "1  per Annum         1820.0            84698.21       0.0            0.0   \n",
       "\n",
       "   Total Other Pay  \n",
       "0              0.0  \n",
       "1              0.0  "
      ]
     },
     "execution_count": 156,
     "metadata": {},
     "output_type": "execute_result"
    }
   ],
   "source": [
    "data = pd.read_csv(\"payroll.csv\")\n",
    "\n",
    "# Standardize the 'Agency Name' column to uppercase\n",
    "data['Agency Name'] = data['Agency Name'].str.upper()\n",
    "\n",
    "data.head(2)"
   ]
  },
  {
   "cell_type": "markdown",
   "id": "491db7d2",
   "metadata": {},
   "source": [
    "# How much of total pay budget is spent on overtime?"
   ]
  },
  {
   "cell_type": "code",
   "execution_count": 157,
   "id": "72b4a263",
   "metadata": {},
   "outputs": [],
   "source": [
    "#group total regular pay and total OT by year\n",
    "\n",
    "yearly_totals = data.groupby('Fiscal Year')[['Regular Gross Paid', 'Total OT Paid']].sum().reset_index()"
   ]
  },
  {
   "cell_type": "code",
   "execution_count": 158,
   "id": "2ed2360a",
   "metadata": {},
   "outputs": [
    {
     "data": {
      "image/png": "[encoded data removed]",
      "text/plain": [
       "<Figure size 600x400 with 1 Axes>"
      ]
     },
     "metadata": {},
     "output_type": "display_data"
    }
   ],
   "source": [
    "plt.figure(figsize=(6, 4))\n",
    "\n",
    "plt.bar(yearly_totals['Fiscal Year'], yearly_totals['Regular Gross Paid'], label='Regular Gross', color='skyblue')\n",
    "plt.bar(yearly_totals['Fiscal Year'], yearly_totals['Total OT Paid'],\n",
    "        bottom=yearly_totals['Regular Gross Paid'], label='Overtime', color='orange')\n",
    "\n",
    "plt.xlabel('Year')\n",
    "plt.ylabel('Total Paid')\n",
    "plt.title('Total Regular and Overtime Paid by Year')\n",
    "plt.legend()\n",
    "plt.xticks(yearly_totals['Fiscal Year'])\n",
    "\n",
    "plt.tight_layout()\n",
    "plt.show()"
   ]
  },
  {
   "cell_type": "markdown",
   "id": "604cbb1d",
   "metadata": {},
   "source": [
    "# Are certain departments consistently spending more on overtime?"
   ]
  },
  {
   "cell_type": "code",
   "execution_count": 159,
   "id": "45cd01ec",
   "metadata": {},
   "outputs": [],
   "source": [
    "# agg total and OT spending by year and department \n",
    "data = data[data[\"Total OT Paid\"]>=0]\n",
    "dept_yearly = data.groupby(['Fiscal Year', 'Agency Name'])[['Regular Gross Paid', 'Total OT Paid']].sum().reset_index()\n"
   ]
  },
  {
   "cell_type": "code",
   "execution_count": 160,
   "id": "5f0a710a",
   "metadata": {},
   "outputs": [],
   "source": [
    "#get total overtime percent \n",
    "\n",
    "dept_yearly['TotalPay'] = dept_yearly['Regular Gross Paid'] + dept_yearly['Total OT Paid']\n",
    "dept_yearly['OvertimePct'] = dept_yearly['Total OT Paid'] / dept_yearly['TotalPay']"
   ]
  },
  {
   "cell_type": "code",
   "execution_count": 161,
   "id": "304dd52e",
   "metadata": {},
   "outputs": [],
   "source": [
    "# now limit to the top agencies we're interested in \n",
    "\n",
    "top_agencies = ['DEPT OF ED PEDAGOGICAL', 'POLICE DEPARTMENT', 'FIRE DEPARTMENT',\n",
    "       'DEPT OF ED PARA PROFESSIONALS', 'DEPARTMENT OF EDUCATION ADMIN',\n",
    "       'DEPARTMENT OF CORRECTION', 'DEPARTMENT OF SANITATION',\n",
    "       'HRA/DEPT OF SOCIAL SERVICES', 'NYC HOUSING AUTHORITY',\n",
    "       'DEPT OF ENVIRONMENT PROTECTION']\n",
    "\n",
    "dept_yearly = dept_yearly[dept_yearly[\"Agency Name\"].isin(top_agencies)]"
   ]
  },
  {
   "cell_type": "code",
   "execution_count": 162,
   "id": "9b0e47b4",
   "metadata": {},
   "outputs": [
    {
     "data": {
      "text/html": [
       "<div>\n",
       "<style scoped>\n",
       "    .dataframe tbody tr th:only-of-type {\n",
       "        vertical-align: middle;\n",
       "    }\n",
       "\n",
       "    .dataframe tbody tr th {\n",
       "        vertical-align: top;\n",
       "    }\n",
       "\n",
       "    .dataframe thead th {\n",
       "        text-align: right;\n",
       "    }\n",
       "</style>\n",
       "<table border=\"1\" class=\"dataframe\">\n",
       "  <thead>\n",
       "    <tr style=\"text-align: right;\">\n",
       "      <th></th>\n",
       "      <th>Agency Name</th>\n",
       "      <th>mean</th>\n",
       "      <th>std</th>\n",
       "      <th>cv</th>\n",
       "    </tr>\n",
       "  </thead>\n",
       "  <tbody>\n",
       "    <tr>\n",
       "      <th>0</th>\n",
       "      <td>DEPARTMENT OF CORRECTION</td>\n",
       "      <td>0.218476</td>\n",
       "      <td>0.054800</td>\n",
       "      <td>0.250828</td>\n",
       "    </tr>\n",
       "    <tr>\n",
       "      <th>1</th>\n",
       "      <td>DEPARTMENT OF EDUCATION ADMIN</td>\n",
       "      <td>0.023528</td>\n",
       "      <td>0.005330</td>\n",
       "      <td>0.226548</td>\n",
       "    </tr>\n",
       "    <tr>\n",
       "      <th>2</th>\n",
       "      <td>DEPARTMENT OF SANITATION</td>\n",
       "      <td>0.184419</td>\n",
       "      <td>0.043956</td>\n",
       "      <td>0.238351</td>\n",
       "    </tr>\n",
       "    <tr>\n",
       "      <th>3</th>\n",
       "      <td>DEPT OF ED PARA PROFESSIONALS</td>\n",
       "      <td>0.001007</td>\n",
       "      <td>0.000966</td>\n",
       "      <td>0.959181</td>\n",
       "    </tr>\n",
       "    <tr>\n",
       "      <th>4</th>\n",
       "      <td>DEPT OF ED PEDAGOGICAL</td>\n",
       "      <td>0.000000</td>\n",
       "      <td>0.000000</td>\n",
       "      <td>NaN</td>\n",
       "    </tr>\n",
       "    <tr>\n",
       "      <th>5</th>\n",
       "      <td>DEPT OF ENVIRONMENT PROTECTION</td>\n",
       "      <td>0.092009</td>\n",
       "      <td>0.011145</td>\n",
       "      <td>0.121132</td>\n",
       "    </tr>\n",
       "    <tr>\n",
       "      <th>6</th>\n",
       "      <td>FIRE DEPARTMENT</td>\n",
       "      <td>0.224152</td>\n",
       "      <td>0.022818</td>\n",
       "      <td>0.101798</td>\n",
       "    </tr>\n",
       "    <tr>\n",
       "      <th>7</th>\n",
       "      <td>HRA/DEPT OF SOCIAL SERVICES</td>\n",
       "      <td>0.067025</td>\n",
       "      <td>0.035604</td>\n",
       "      <td>0.531208</td>\n",
       "    </tr>\n",
       "    <tr>\n",
       "      <th>8</th>\n",
       "      <td>NYC HOUSING AUTHORITY</td>\n",
       "      <td>0.146488</td>\n",
       "      <td>0.034392</td>\n",
       "      <td>0.234777</td>\n",
       "    </tr>\n",
       "    <tr>\n",
       "      <th>9</th>\n",
       "      <td>POLICE DEPARTMENT</td>\n",
       "      <td>0.164322</td>\n",
       "      <td>0.021528</td>\n",
       "      <td>0.131010</td>\n",
       "    </tr>\n",
       "  </tbody>\n",
       "</table>\n",
       "</div>"
      ],
      "text/plain": [
       "                      Agency Name      mean       std        cv\n",
       "0        DEPARTMENT OF CORRECTION  0.218476  0.054800  0.250828\n",
       "1   DEPARTMENT OF EDUCATION ADMIN  0.023528  0.005330  0.226548\n",
       "2        DEPARTMENT OF SANITATION  0.184419  0.043956  0.238351\n",
       "3   DEPT OF ED PARA PROFESSIONALS  0.001007  0.000966  0.959181\n",
       "4          DEPT OF ED PEDAGOGICAL  0.000000  0.000000       NaN\n",
       "5  DEPT OF ENVIRONMENT PROTECTION  0.092009  0.011145  0.121132\n",
       "6                 FIRE DEPARTMENT  0.224152  0.022818  0.101798\n",
       "7     HRA/DEPT OF SOCIAL SERVICES  0.067025  0.035604  0.531208\n",
       "8           NYC HOUSING AUTHORITY  0.146488  0.034392  0.234777\n",
       "9               POLICE DEPARTMENT  0.164322  0.021528  0.131010"
      ]
     },
     "execution_count": 162,
     "metadata": {},
     "output_type": "execute_result"
    }
   ],
   "source": [
    "# get some stats\n",
    "\n",
    "dept_stats = dept_yearly.groupby('Agency Name')['OvertimePct'].agg(['mean', 'std']).reset_index()\n",
    "dept_stats['cv'] = dept_stats['std'] / dept_stats['mean']  # coefficient of variation\n",
    "\n",
    "dept_stats"
   ]
  },
  {
   "cell_type": "code",
   "execution_count": 163,
   "id": "33a8d9e3",
   "metadata": {},
   "outputs": [
    {
     "data": {
      "text/plain": [
       "Text(0.5, 1.0, 'OT/Total Pay by Dept')"
      ]
     },
     "execution_count": 163,
     "metadata": {},
     "output_type": "execute_result"
    },
    {
     "data": {
      "image/png": "[encoded data removed]",
      "text/plain": [
       "<Figure size 640x480 with 1 Axes>"
      ]
     },
     "metadata": {},
     "output_type": "display_data"
    }
   ],
   "source": [
    "# now lets plot overtime spending year by year per department\n",
    "\n",
    "sns.lineplot(data=dept_yearly, x=\"Fiscal Year\", y=\"OvertimePct\", hue=\"Agency Name\", marker=\"o\")\n",
    "plt.legend(loc='right', bbox_to_anchor=(1.7, 0.5), ncol=1)\n",
    "\n",
    "plt.title(\"OT/Total Pay by Dept\")\n"
   ]
  },
  {
   "cell_type": "markdown",
   "id": "3dce872f",
   "metadata": {},
   "source": [
    "# Is there a relationship between # of employees and overtime spending?"
   ]
  },
  {
   "cell_type": "code",
   "execution_count": 164,
   "id": "4ffdd50b",
   "metadata": {},
   "outputs": [],
   "source": [
    "#number of employees by the number of records (rows) for 2022 \n",
    "dept_employee_count = data.groupby(['Agency Name', \"Fiscal Year\"]).size().reset_index(name='num_employees')\n",
    "\n",
    "#now get total_ot per dept in 2022, and total pay per dept in 2022\n",
    "agg_data = data.groupby(['Agency Name','Fiscal Year']).agg(total_ot_hours=('Total OT Paid', 'sum'),total_reg_pay=('Regular Gross Paid', 'sum')).reset_index()\n"
   ]
  },
  {
   "cell_type": "code",
   "execution_count": 165,
   "id": "553e2b9f",
   "metadata": {},
   "outputs": [
    {
     "data": {
      "text/html": [
       "<div>\n",
       "<style scoped>\n",
       "    .dataframe tbody tr th:only-of-type {\n",
       "        vertical-align: middle;\n",
       "    }\n",
       "\n",
       "    .dataframe tbody tr th {\n",
       "        vertical-align: top;\n",
       "    }\n",
       "\n",
       "    .dataframe thead th {\n",
       "        text-align: right;\n",
       "    }\n",
       "</style>\n",
       "<table border=\"1\" class=\"dataframe\">\n",
       "  <thead>\n",
       "    <tr style=\"text-align: right;\">\n",
       "      <th></th>\n",
       "      <th>Agency Name</th>\n",
       "      <th>Fiscal Year</th>\n",
       "      <th>total_ot_hours</th>\n",
       "      <th>total_reg_pay</th>\n",
       "      <th>num_employees</th>\n",
       "      <th>OvertimePct</th>\n",
       "    </tr>\n",
       "  </thead>\n",
       "  <tbody>\n",
       "    <tr>\n",
       "      <th>0</th>\n",
       "      <td>ADMIN FOR CHILDREN'S SVCS</td>\n",
       "      <td>2014</td>\n",
       "      <td>24403042.67</td>\n",
       "      <td>3.440385e+08</td>\n",
       "      <td>6626</td>\n",
       "      <td>0.066233</td>\n",
       "    </tr>\n",
       "    <tr>\n",
       "      <th>1</th>\n",
       "      <td>ADMIN FOR CHILDREN'S SVCS</td>\n",
       "      <td>2015</td>\n",
       "      <td>29319175.69</td>\n",
       "      <td>3.737270e+08</td>\n",
       "      <td>7764</td>\n",
       "      <td>0.072744</td>\n",
       "    </tr>\n",
       "    <tr>\n",
       "      <th>2</th>\n",
       "      <td>ADMIN FOR CHILDREN'S SVCS</td>\n",
       "      <td>2016</td>\n",
       "      <td>32364618.75</td>\n",
       "      <td>3.660777e+08</td>\n",
       "      <td>6831</td>\n",
       "      <td>0.081228</td>\n",
       "    </tr>\n",
       "    <tr>\n",
       "      <th>3</th>\n",
       "      <td>ADMIN FOR CHILDREN'S SVCS</td>\n",
       "      <td>2017</td>\n",
       "      <td>48867617.60</td>\n",
       "      <td>4.110463e+08</td>\n",
       "      <td>7340</td>\n",
       "      <td>0.106254</td>\n",
       "    </tr>\n",
       "    <tr>\n",
       "      <th>4</th>\n",
       "      <td>ADMIN FOR CHILDREN'S SVCS</td>\n",
       "      <td>2018</td>\n",
       "      <td>60584865.17</td>\n",
       "      <td>4.179034e+08</td>\n",
       "      <td>7556</td>\n",
       "      <td>0.126617</td>\n",
       "    </tr>\n",
       "    <tr>\n",
       "      <th>...</th>\n",
       "      <td>...</td>\n",
       "      <td>...</td>\n",
       "      <td>...</td>\n",
       "      <td>...</td>\n",
       "      <td>...</td>\n",
       "      <td>...</td>\n",
       "    </tr>\n",
       "    <tr>\n",
       "      <th>1106</th>\n",
       "      <td>TEACHERS RETIREMENT SYSTEM</td>\n",
       "      <td>2022</td>\n",
       "      <td>183883.33</td>\n",
       "      <td>3.071201e+07</td>\n",
       "      <td>439</td>\n",
       "      <td>0.005952</td>\n",
       "    </tr>\n",
       "    <tr>\n",
       "      <th>1107</th>\n",
       "      <td>TEACHERS RETIREMENT SYSTEM</td>\n",
       "      <td>2023</td>\n",
       "      <td>102295.17</td>\n",
       "      <td>3.302916e+07</td>\n",
       "      <td>467</td>\n",
       "      <td>0.003088</td>\n",
       "    </tr>\n",
       "    <tr>\n",
       "      <th>1108</th>\n",
       "      <td>TEACHERS RETIREMENT SYSTEM</td>\n",
       "      <td>2024</td>\n",
       "      <td>73379.64</td>\n",
       "      <td>3.688788e+07</td>\n",
       "      <td>458</td>\n",
       "      <td>0.001985</td>\n",
       "    </tr>\n",
       "    <tr>\n",
       "      <th>1109</th>\n",
       "      <td>TECHNOLOGY &amp; INNOVATION</td>\n",
       "      <td>2023</td>\n",
       "      <td>1301183.08</td>\n",
       "      <td>1.546382e+08</td>\n",
       "      <td>2183</td>\n",
       "      <td>0.008344</td>\n",
       "    </tr>\n",
       "    <tr>\n",
       "      <th>1110</th>\n",
       "      <td>TECHNOLOGY &amp; INNOVATION</td>\n",
       "      <td>2024</td>\n",
       "      <td>2037075.01</td>\n",
       "      <td>1.640612e+08</td>\n",
       "      <td>1929</td>\n",
       "      <td>0.012264</td>\n",
       "    </tr>\n",
       "  </tbody>\n",
       "</table>\n",
       "<p>1111 rows × 6 columns</p>\n",
       "</div>"
      ],
      "text/plain": [
       "                     Agency Name  Fiscal Year  total_ot_hours  total_reg_pay  \\\n",
       "0      ADMIN FOR CHILDREN'S SVCS         2014     24403042.67   3.440385e+08   \n",
       "1      ADMIN FOR CHILDREN'S SVCS         2015     29319175.69   3.737270e+08   \n",
       "2      ADMIN FOR CHILDREN'S SVCS         2016     32364618.75   3.660777e+08   \n",
       "3      ADMIN FOR CHILDREN'S SVCS         2017     48867617.60   4.110463e+08   \n",
       "4      ADMIN FOR CHILDREN'S SVCS         2018     60584865.17   4.179034e+08   \n",
       "...                          ...          ...             ...            ...   \n",
       "1106  TEACHERS RETIREMENT SYSTEM         2022       183883.33   3.071201e+07   \n",
       "1107  TEACHERS RETIREMENT SYSTEM         2023       102295.17   3.302916e+07   \n",
       "1108  TEACHERS RETIREMENT SYSTEM         2024        73379.64   3.688788e+07   \n",
       "1109     TECHNOLOGY & INNOVATION         2023      1301183.08   1.546382e+08   \n",
       "1110     TECHNOLOGY & INNOVATION         2024      2037075.01   1.640612e+08   \n",
       "\n",
       "      num_employees  OvertimePct  \n",
       "0              6626     0.066233  \n",
       "1              7764     0.072744  \n",
       "2              6831     0.081228  \n",
       "3              7340     0.106254  \n",
       "4              7556     0.126617  \n",
       "...             ...          ...  \n",
       "1106            439     0.005952  \n",
       "1107            467     0.003088  \n",
       "1108            458     0.001985  \n",
       "1109           2183     0.008344  \n",
       "1110           1929     0.012264  \n",
       "\n",
       "[1111 rows x 6 columns]"
      ]
     },
     "execution_count": 165,
     "metadata": {},
     "output_type": "execute_result"
    }
   ],
   "source": [
    "#merge the two so we get everything together \n",
    "agg_data = pd.merge(agg_data, dept_employee_count, on=['Agency Name','Fiscal Year'], how='inner')\n",
    "\n",
    "#add percent overtime col\n",
    "agg_data[\"OvertimePct\"] = agg_data[\"total_ot_hours\"]/(agg_data[\"total_ot_hours\"] + agg_data[\"total_reg_pay\"])\n",
    "agg_data"
   ]
  },
  {
   "cell_type": "code",
   "execution_count": 174,
   "id": "4c780158",
   "metadata": {},
   "outputs": [],
   "source": [
    "from sklearn.model_selection import train_test_split\n",
    "from sklearn.linear_model import LinearRegression"
   ]
  },
  {
   "cell_type": "markdown",
   "id": "78cdc4a9",
   "metadata": {},
   "source": [
    "Model 1 : Number of employees"
   ]
  },
  {
   "cell_type": "code",
   "execution_count": 189,
   "id": "06b41f85",
   "metadata": {},
   "outputs": [
    {
     "name": "stdout",
     "output_type": "stream",
     "text": [
      "Model 1 (Number of Employees) R-squared: 0.1719747934767628\n"
     ]
    }
   ],
   "source": [
    "X = agg_data[\"num_employees\"].values.reshape(-1, 1)\n",
    "y = agg_data[\"total_ot_hours\"]\n",
    "X_train, X_test, y_train, y_test = train_test_split(X, y, test_size=0.2, random_state=42)\n",
    "\n",
    "# Model 1: Using just # of employees\n",
    "\n",
    "model1 = LinearRegression()\n",
    "model1.fit(X_train, y_train)\n",
    "\n",
    "y_pred1 = model1.predict(X_test)\n",
    "r_squared_model1 = model1.score(X_test, y_test)\n",
    "print(f\"Model 1 (Number of Employees) R-squared: {r_squared_model1}\")\n"
   ]
  },
  {
   "cell_type": "markdown",
   "id": "3b6dd783",
   "metadata": {},
   "source": [
    "Model 2: Agency Name"
   ]
  },
  {
   "cell_type": "code",
   "execution_count": 190,
   "id": "2783005a",
   "metadata": {},
   "outputs": [
    {
     "name": "stdout",
     "output_type": "stream",
     "text": [
      "Model 2 (Number of Employees) R-squared: 0.9703745377630658\n"
     ]
    }
   ],
   "source": [
    "# One-hot encode the categorical agency name variable \n",
    "data_encoded = pd.get_dummies(agg_data, columns=['Agency Name'], drop_first=True)\n",
    "\n",
    "# Define the independent variable (X) and dependent variable (y)\n",
    "X = data_encoded.drop(columns=[\"Fiscal Year\", \"total_ot_hours\",\"total_reg_pay\",\"OvertimePct\",\"num_employees\"], axis=1)\n",
    "y = data_encoded['total_ot_hours']  # Total overtime hours\n",
    "\n",
    "# Split the data into training and testing sets\n",
    "X_train, X_test, y_train, y_test = train_test_split(X, y, test_size=0.2, random_state=42)\n",
    "\n",
    "\n",
    "# **Model 2: Using Both Number of Employees and Department**\n",
    "model2 = LinearRegression()\n",
    "model2.fit(X_train, y_train)\n",
    "\n",
    "# Predict and evaluate Model 2\n",
    "y_pred2 = model2.predict(X_test)\n",
    "r_squared_model2 = model2.score(X_test, y_test)\n",
    "print(f\"Model 2 (Number of Employees) R-squared: {r_squared_model2}\")\n",
    "important_features = model2.coef_"
   ]
  },
  {
   "cell_type": "code",
   "execution_count": 188,
   "id": "c13cf70a",
   "metadata": {},
   "outputs": [
    {
     "data": {
      "text/html": [
       "<div>\n",
       "<style scoped>\n",
       "    .dataframe tbody tr th:only-of-type {\n",
       "        vertical-align: middle;\n",
       "    }\n",
       "\n",
       "    .dataframe tbody tr th {\n",
       "        vertical-align: top;\n",
       "    }\n",
       "\n",
       "    .dataframe thead th {\n",
       "        text-align: right;\n",
       "    }\n",
       "</style>\n",
       "<table border=\"1\" class=\"dataframe\">\n",
       "  <thead>\n",
       "    <tr style=\"text-align: right;\">\n",
       "      <th></th>\n",
       "      <th>Coefficient</th>\n",
       "      <th>Absolute Coefficient</th>\n",
       "    </tr>\n",
       "  </thead>\n",
       "  <tbody>\n",
       "    <tr>\n",
       "      <th>Agency Name_POLICE DEPARTMENT</th>\n",
       "      <td>7.199632e+08</td>\n",
       "      <td>7.199632e+08</td>\n",
       "    </tr>\n",
       "    <tr>\n",
       "      <th>Agency Name_FIRE DEPARTMENT</th>\n",
       "      <td>3.749762e+08</td>\n",
       "      <td>3.749762e+08</td>\n",
       "    </tr>\n",
       "    <tr>\n",
       "      <th>Agency Name_DEPARTMENT OF CORRECTION</th>\n",
       "      <td>1.734702e+08</td>\n",
       "      <td>1.734702e+08</td>\n",
       "    </tr>\n",
       "    <tr>\n",
       "      <th>Agency Name_DEPARTMENT OF SANITATION</th>\n",
       "      <td>1.324518e+08</td>\n",
       "      <td>1.324518e+08</td>\n",
       "    </tr>\n",
       "    <tr>\n",
       "      <th>Agency Name_NYC HOUSING AUTHORITY</th>\n",
       "      <td>8.056942e+07</td>\n",
       "      <td>8.056942e+07</td>\n",
       "    </tr>\n",
       "  </tbody>\n",
       "</table>\n",
       "</div>"
      ],
      "text/plain": [
       "                                       Coefficient  Absolute Coefficient\n",
       "Agency Name_POLICE DEPARTMENT         7.199632e+08          7.199632e+08\n",
       "Agency Name_FIRE DEPARTMENT           3.749762e+08          3.749762e+08\n",
       "Agency Name_DEPARTMENT OF CORRECTION  1.734702e+08          1.734702e+08\n",
       "Agency Name_DEPARTMENT OF SANITATION  1.324518e+08          1.324518e+08\n",
       "Agency Name_NYC HOUSING AUTHORITY     8.056942e+07          8.056942e+07"
      ]
     },
     "execution_count": 188,
     "metadata": {},
     "output_type": "execute_result"
    }
   ],
   "source": [
    "coefficients = pd.DataFrame(model2.coef_, X.columns, columns=['Coefficient'])\n",
    "coefficients['Absolute Coefficient'] = coefficients['Coefficient'].abs()\n",
    "\n",
    "# Sort the features by absolute coefficient value\n",
    "coefficients_sorted = coefficients.sort_values(by='Absolute Coefficient', ascending=False)\n",
    "\n",
    "coefficients_sorted[:5]"
   ]
  },
  {
   "cell_type": "markdown",
   "id": "ceb25959",
   "metadata": {},
   "source": [
    "Model 3: Num Employees + Agency Name"
   ]
  },
  {
   "cell_type": "code",
   "execution_count": 205,
   "id": "e02df901",
   "metadata": {},
   "outputs": [
    {
     "name": "stdout",
     "output_type": "stream",
     "text": [
      "Model 3 (Number of Employees) R-squared: 0.9703489956676836\n"
     ]
    }
   ],
   "source": [
    "data_encoded = pd.get_dummies(agg_data, columns=['Agency Name'], drop_first=True)\n",
    "\n",
    "\n",
    "X = data_encoded.drop(columns=[\"Fiscal Year\", \"total_ot_hours\",\"total_reg_pay\",\"OvertimePct\"], axis=1)\n",
    "y = data_encoded['total_ot_hours']  # Total overtime hours\n",
    "\n",
    "# Split the data into training and testing sets\n",
    "X_train, X_test, y_train, y_test = train_test_split(X, y, test_size=0.2, random_state=42)\n",
    "\n",
    "# **Model 2: Using Both Number of Employees and Department**\n",
    "model3 = LinearRegression()\n",
    "model3.fit(X_train, y_train)\n",
    "\n",
    "# Predict and evaluate Model 2\n",
    "y_pred3 = model3.predict(X_test)\n",
    "r_squared_model3 = model3.score(X_test, y_test)\n",
    "print(f\"Model 3 (Number of Employees) R-squared: {r_squared_model3}\")\n",
    "important_features = (model3.coef_).tolist()\n",
    "\n"
   ]
  },
  {
   "cell_type": "code",
   "execution_count": 213,
   "id": "b3f985bc",
   "metadata": {},
   "outputs": [],
   "source": [
    "coefficients = pd.DataFrame(model3.coef_, X.columns, columns=['Coefficient'])\n",
    "coefficients['Absolute Coefficient'] = coefficients['Coefficient'].abs()\n",
    "\n",
    "# Sort the features by absolute coefficient value\n",
    "coefficients_sorted = coefficients.sort_values(by='Absolute Coefficient', ascending=False)"
   ]
  },
  {
   "cell_type": "code",
   "execution_count": 216,
   "id": "21b4b52b",
   "metadata": {},
   "outputs": [
    {
     "name": "stdout",
     "output_type": "stream",
     "text": [
      "The rank of 'num_employees' is: 112 out of 115\n"
     ]
    }
   ],
   "source": [
    "index_of_num_employees = coefficients_sorted.index.get_loc('num_employees')\n",
    "\n",
    "total_features = len(coefficients_sorted)\n",
    "\n",
    "# Calculate the index as \"index out of total\"\n",
    "index_out_of_total = f\"{index_of_num_employees + 1} out of {total_features}\"\n",
    "\n",
    "print(f\"The rank of 'num_employees' is: {index_out_of_total}\")\n"
   ]
  },
  {
   "cell_type": "markdown",
   "id": "eb382700",
   "metadata": {},
   "source": [
    "Summary of models: Department is a more important predictor than number of employees when predicting OT hours. And department can lead to a highly accurate prediction. "
   ]
  },
  {
   "cell_type": "markdown",
   "id": "e51f832e",
   "metadata": {},
   "source": [
    "# Top Job Titles Working Overtime"
   ]
  },
  {
   "cell_type": "code",
   "execution_count": 232,
   "id": "7996b6cb",
   "metadata": {},
   "outputs": [
    {
     "name": "stdout",
     "output_type": "stream",
     "text": [
      "Top 5 Job Titles by OT Hours 2012-2022\n",
      "       Title Description               Agency Name     OT Hours\n",
      "6193      POLICE OFFICER         POLICE DEPARTMENT  61694804.28\n",
      "5081         FIREFIGHTER           FIRE DEPARTMENT  44450310.38\n",
      "3986  CORRECTION OFFICER  DEPARTMENT OF CORRECTION  34002181.01\n",
      "6804   SANITATION WORKER  DEPARTMENT OF SANITATION  22011079.84\n",
      "6064     P.O. DA DET GR3         POLICE DEPARTMENT  15683612.65\n"
     ]
    }
   ],
   "source": [
    "# Group by both \"Title Description\" and \"Department\", then sum the total overtime paid\n",
    "jobs_agg = data.groupby([\"Title Description\", \"Agency Name\"])[\"OT Hours\"].sum().reset_index()\n",
    "\n",
    "# Sort the result by \"Total OT Paid\"\n",
    "jobs_agg_sorted = jobs_agg.sort_values(by=\"OT Hours\", ascending=False)\n",
    "\n",
    "print(\"Top 5 Job Titles by OT Hours 2012-2022\")\n",
    "print(jobs_agg_sorted[:5])\n"
   ]
  },
  {
   "cell_type": "code",
   "execution_count": null,
   "id": "ed857f46",
   "metadata": {},
   "outputs": [],
   "source": []
  }
 ],
 "metadata": {
  "kernelspec": {
   "display_name": "Python 3",
   "language": "python",
   "name": "python3"
  },
  "language_info": {
   "codemirror_mode": {
    "name": "ipython",
    "version": 3
   },
   "file_extension": ".py",
   "mimetype": "text/x-python",
   "name": "python",
   "nbconvert_exporter": "python",
   "pygments_lexer": "ipython3",
   "version": "3.11.9"
  }
 },
 "nbformat": 4,
 "nbformat_minor": 5
}
